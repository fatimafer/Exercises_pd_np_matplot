{
 "cells": [
  {
   "cell_type": "markdown",
   "id": "df49ec9a-fcdf-447f-904a-35829986f625",
   "metadata": {},
   "source": [
    "# Reto 2"
   ]
  },
  {
   "cell_type": "markdown",
   "id": "e8825095-42d6-4e60-a172-4edaa0d64f03",
   "metadata": {},
   "source": [
    "## Crear una matriz numpy vacía de números enteros y otra completa"
   ]
  },
  {
   "cell_type": "code",
   "execution_count": null,
   "id": "5b826e4a",
   "metadata": {},
   "outputs": [],
   "source": [
    "matriz1 = np.empty((4,3),dtype=int) #Poner los corchetes que siempre se me olvida(anotación solo para Fátima)\n",
    "matriz1"
   ]
  },
  {
   "cell_type": "code",
   "execution_count": null,
   "id": "efe41c7b",
   "metadata": {},
   "outputs": [],
   "source": [
    "matriz2 = np.ones((5,5))\n",
    "matriz2"
   ]
  },
  {
   "cell_type": "markdown",
   "id": "030dfb3c-ca9e-4e85-ac90-e73dc9970f4d",
   "metadata": {},
   "source": [
    "## Crea un array y conviértelo en una matriz de 3 columnas y 5 filas"
   ]
  },
  {
   "cell_type": "code",
   "execution_count": null,
   "id": "1cb4e1fa",
   "metadata": {},
   "outputs": [],
   "source": [
    "arr5 = np.random.random(15)*10\n",
    "arr5"
   ]
  },
  {
   "cell_type": "code",
   "execution_count": null,
   "id": "1f65a39b",
   "metadata": {},
   "outputs": [],
   "source": [
    "np.reshape(arr5,(5,3))"
   ]
  },
  {
   "cell_type": "markdown",
   "id": "9591de1d-a208-48df-96f6-7a6e103a3b57",
   "metadata": {},
   "source": [
    "## Todos los elementos de un array deben tener el mismo tipo de dato, crea un array booleano y comprueba el tipo de dato. Luego crea uno con tipos de datos distintos y comprueba el tipo de resultado."
   ]
  },
  {
   "cell_type": "code",
   "execution_count": null,
   "id": "df599dc0",
   "metadata": {},
   "outputs": [],
   "source": [
    "#Array booleano\n",
    "bole = np.array([[True, False, True],\n",
    "       [False, True, False],\n",
    "       [True, False, True]])\n",
    "bole"
   ]
  },
  {
   "cell_type": "code",
   "execution_count": null,
   "id": "0bec6947",
   "metadata": {},
   "outputs": [],
   "source": [
    "bole.dtype"
   ]
  },
  {
   "cell_type": "code",
   "execution_count": null,
   "id": "999c1694",
   "metadata": {},
   "outputs": [],
   "source": [
    "mixto = np.array([[True, 'Hola', 5],\n",
    "       [False, 3.545, False],\n",
    "       [0.48, 6, 'Fin']])\n",
    "mixto"
   ]
  },
  {
   "cell_type": "code",
   "execution_count": null,
   "id": "ba54568e",
   "metadata": {},
   "outputs": [],
   "source": [
    "mixto.dtype"
   ]
  },
  {
   "cell_type": "markdown",
   "id": "b37e2dfa-b598-4064-aff9-832c54c31bab",
   "metadata": {},
   "source": [
    "## Filtra el nombre Julio en los elementos del siguiente array: Julio, Jose, Alberto, Julio, Nuria, Daniel."
   ]
  },
  {
   "cell_type": "code",
   "execution_count": null,
   "id": "d0a5efb6",
   "metadata": {},
   "outputs": [],
   "source": [
    "nombres = np.array(['Julio', 'Jose', 'Alberto', 'Julio', 'Nuria', 'Daniel'])\n",
    "nombres"
   ]
  },
  {
   "cell_type": "code",
   "execution_count": null,
   "id": "b8703ae8",
   "metadata": {},
   "outputs": [],
   "source": [
    "#Solo hacemos el filtrado fácil\n",
    "nombrejulio = nombres[nombres == 'Julio']\n",
    "nombrejulio"
   ]
  },
  {
   "cell_type": "markdown",
   "id": "5e0a4f18-1cef-4adf-89c5-e97ed94afbf1",
   "metadata": {},
   "source": [
    "## Crea una un array de 20 elementos numéricos y encuentra la raíz cuadrada y exponencial"
   ]
  },
  {
   "cell_type": "code",
   "execution_count": null,
   "id": "92223694",
   "metadata": {},
   "outputs": [],
   "source": [
    "arr20 = np.random.random((5,4))*100\n",
    "arr20"
   ]
  },
  {
   "cell_type": "code",
   "execution_count": null,
   "id": "54237dac",
   "metadata": {},
   "outputs": [],
   "source": [
    "# Raiz cuadrada\n",
    "arr20 ** 0.5"
   ]
  },
  {
   "cell_type": "code",
   "execution_count": null,
   "id": "94c27cc4",
   "metadata": {},
   "outputs": [],
   "source": [
    "#Exponencial\n",
    "np.exp(arr20)"
   ]
  },
  {
   "cell_type": "markdown",
   "id": "18995764-9aec-4080-9d31-bca1df7d38a8",
   "metadata": {},
   "source": [
    "## Matematicas"
   ]
  },
  {
   "cell_type": "markdown",
   "id": "cefe67aa-2983-4065-8d0b-14316e673734",
   "metadata": {},
   "source": [
    "###  Crea un array de -5 a 6."
   ]
  },
  {
   "cell_type": "code",
   "execution_count": null,
   "id": "f1d67bc3",
   "metadata": {},
   "outputs": [],
   "source": [
    "arr56 = np.arange(-5,7,1)\n",
    "arr56"
   ]
  },
  {
   "cell_type": "markdown",
   "id": "81649d88-69c9-493e-94f2-8208d603a4c9",
   "metadata": {},
   "source": [
    "### Multiplica por 2.5 todos los elementos del array."
   ]
  },
  {
   "cell_type": "code",
   "execution_count": null,
   "id": "56e1473b",
   "metadata": {},
   "outputs": [],
   "source": [
    "arr562 = arr56 * 2.5\n",
    "arr562"
   ]
  },
  {
   "cell_type": "markdown",
   "id": "9cebdd00-6dd5-44d2-a9bd-20d3c62973f4",
   "metadata": {},
   "source": [
    "### Filtra los elementos del array que son mayores de -3 y menores de 5."
   ]
  },
  {
   "cell_type": "code",
   "execution_count": null,
   "id": "09a14d01",
   "metadata": {},
   "outputs": [],
   "source": [
    "arr5623 = arr[(arr562 > -3) & (arr562 < 5)]\n",
    "arr5623"
   ]
  },
  {
   "cell_type": "code",
   "execution_count": null,
   "id": "627911c5",
   "metadata": {},
   "outputs": [],
   "source": [
    "arr5623.shape"
   ]
  },
  {
   "cell_type": "markdown",
   "id": "96b897b2-f9c7-4429-bf46-3891158dd94a",
   "metadata": {},
   "source": [
    "### Transforma el array para añadir 1 a todos los elementos negativos (Usa una función)"
   ]
  },
  {
   "cell_type": "code",
   "execution_count": null,
   "id": "484a2742",
   "metadata": {},
   "outputs": [],
   "source": [
    "#Hay dos maneras de hacer esto\n",
    "#Utilizando las herramientas que hemos visto en clase para guardar los valores\n",
    "listaneg = []\n",
    "for i in range(arr5623.shape[0]):\n",
    "    if arr5623[i] < 0:\n",
    "        listaneg.append(arr5623[i]+1)\n",
    "    else:\n",
    "        listaneg.append(arr5623[i])\n",
    "arrneg = np.array(listaneg)\n",
    "arrneg\n",
    "        "
   ]
  },
  {
   "cell_type": "code",
   "execution_count": null,
   "id": "1ced0ce2",
   "metadata": {},
   "outputs": [],
   "source": [
    "#Utilizando otras funciones\n",
    "arrneg = np.where(arr5623 < 0, arr5623 + 1, arr5623)\n",
    "arrneg"
   ]
  },
  {
   "cell_type": "markdown",
   "id": "1fd107c6-33bd-4adc-b22f-e08e9eb48b87",
   "metadata": {},
   "source": [
    "### Imprime la suma del array"
   ]
  },
  {
   "cell_type": "code",
   "execution_count": null,
   "id": "b5835432",
   "metadata": {},
   "outputs": [],
   "source": [
    "np.sum(arrneg)"
   ]
  }
 ],
 "metadata": {
  "celltoolbar": "Edit Metadata",
  "kernelspec": {
   "display_name": "Python 3 (ipykernel)",
   "language": "python",
   "name": "python3"
  },
  "language_info": {
   "codemirror_mode": {
    "name": "ipython",
    "version": 3
   },
   "file_extension": ".py",
   "mimetype": "text/x-python",
   "name": "python",
   "nbconvert_exporter": "python",
   "pygments_lexer": "ipython3",
   "version": "3.9.13"
  },
  "toc-autonumbering": true,
  "toc-showtags": false
 },
 "nbformat": 4,
 "nbformat_minor": 5
}
