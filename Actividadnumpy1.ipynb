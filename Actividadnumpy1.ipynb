{
 "cells": [
  {
   "cell_type": "markdown",
   "id": "74ae9dba",
   "metadata": {},
   "source": [
    "# Reto 1"
   ]
  },
  {
   "cell_type": "code",
   "execution_count": 1,
   "id": "3fb1a0d2",
   "metadata": {},
   "outputs": [],
   "source": [
    "import numpy as np"
   ]
  },
  {
   "cell_type": "markdown",
   "id": "76021036",
   "metadata": {},
   "source": [
    "## Creación de arrays"
   ]
  },
  {
   "cell_type": "markdown",
   "id": "9cf3c016",
   "metadata": {},
   "source": [
    "### Crea dos arrays a partir de una lista"
   ]
  },
  {
   "cell_type": "code",
   "execution_count": 2,
   "id": "3c0396a4",
   "metadata": {},
   "outputs": [],
   "source": [
    "lista = [[5,8,3],[5,6,8]]"
   ]
  },
  {
   "cell_type": "code",
   "execution_count": 3,
   "id": "1cb4ad60",
   "metadata": {},
   "outputs": [
    {
     "data": {
      "text/plain": [
       "array([5, 8, 3])"
      ]
     },
     "execution_count": 3,
     "metadata": {},
     "output_type": "execute_result"
    }
   ],
   "source": [
    "a1 = np.array(lista[0])\n",
    "a1"
   ]
  },
  {
   "cell_type": "code",
   "execution_count": 4,
   "id": "7657a84b",
   "metadata": {},
   "outputs": [
    {
     "data": {
      "text/plain": [
       "array([5, 6, 8])"
      ]
     },
     "execution_count": 4,
     "metadata": {},
     "output_type": "execute_result"
    }
   ],
   "source": [
    "a2 = np.array(lista[1])\n",
    "a2"
   ]
  },
  {
   "cell_type": "markdown",
   "id": "63766506",
   "metadata": {},
   "source": [
    "### Crea varios arrays de varias dimensiones"
   ]
  },
  {
   "cell_type": "code",
   "execution_count": 5,
   "id": "f1943c2a",
   "metadata": {},
   "outputs": [
    {
     "data": {
      "text/plain": [
       "array([[1, 2, 3],\n",
       "       [4, 5, 6],\n",
       "       [7, 8, 9]])"
      ]
     },
     "execution_count": 5,
     "metadata": {},
     "output_type": "execute_result"
    }
   ],
   "source": [
    "a3 = np.array([[1,2,3],[4,5,6],[7,8,9]])\n",
    "a3"
   ]
  },
  {
   "cell_type": "code",
   "execution_count": 6,
   "id": "27b96d6e",
   "metadata": {},
   "outputs": [
    {
     "data": {
      "text/plain": [
       "array([[[1, 2, 3, 4],\n",
       "        [5, 6, 7, 8]]])"
      ]
     },
     "execution_count": 6,
     "metadata": {},
     "output_type": "execute_result"
    }
   ],
   "source": [
    "a5 = np.array([[[1,2,3,4],[5,6,7,8]]])\n",
    "a5"
   ]
  },
  {
   "cell_type": "code",
   "execution_count": 7,
   "id": "26d329a7",
   "metadata": {},
   "outputs": [
    {
     "data": {
      "text/plain": [
       "array([[[ 1,  2,  3],\n",
       "        [ 4,  5,  6],\n",
       "        [ 7,  8,  9]],\n",
       "\n",
       "       [[10, 11, 12],\n",
       "        [13, 14, 15],\n",
       "        [16, 17, 18]],\n",
       "\n",
       "       [[19, 20, 21],\n",
       "        [22, 23, 24],\n",
       "        [25, 26, 27]]])"
      ]
     },
     "execution_count": 7,
     "metadata": {},
     "output_type": "execute_result"
    }
   ],
   "source": [
    "a52 = np.array([[[1,2,3],[4,5,6],[7,8,9]],[[10,11,12],[13,14,15],[16,17,18]],[[19,20,21],[22,23,24],[25,26,27]]])\n",
    "a52"
   ]
  },
  {
   "cell_type": "markdown",
   "id": "cea053f6",
   "metadata": {},
   "source": [
    "### Crea un array con tres columnas, cuatro filas"
   ]
  },
  {
   "cell_type": "code",
   "execution_count": 8,
   "id": "c2e592fe",
   "metadata": {},
   "outputs": [
    {
     "data": {
      "text/plain": [
       "array([[ 1,  2,  3],\n",
       "       [ 4,  5,  6],\n",
       "       [ 7,  8,  9],\n",
       "       [10, 11, 12]])"
      ]
     },
     "execution_count": 8,
     "metadata": {},
     "output_type": "execute_result"
    }
   ],
   "source": [
    "a4 = np.array([[1,2,3],[4,5,6],[7,8,9],[10,11,12]])\n",
    "a4"
   ]
  },
  {
   "cell_type": "markdown",
   "id": "d4a6d85a",
   "metadata": {},
   "source": [
    "### ¿Qué dimensión tendría el array de la pregunta 3?"
   ]
  },
  {
   "cell_type": "code",
   "execution_count": 9,
   "id": "1fde16d7",
   "metadata": {},
   "outputs": [
    {
     "data": {
      "text/plain": [
       "2"
      ]
     },
     "execution_count": 9,
     "metadata": {},
     "output_type": "execute_result"
    }
   ],
   "source": [
    "a4.ndim #Dos dimensiones"
   ]
  },
  {
   "cell_type": "markdown",
   "id": "fc9b33dd",
   "metadata": {},
   "source": [
    "## Funciones"
   ]
  },
  {
   "cell_type": "markdown",
   "id": "9a3c7d37",
   "metadata": {},
   "source": [
    "### Crea una array de tres dimensiones con los mismos valores"
   ]
  },
  {
   "cell_type": "code",
   "execution_count": 10,
   "id": "720b5486",
   "metadata": {},
   "outputs": [
    {
     "data": {
      "text/plain": [
       "array([[[6, 6, 6],\n",
       "        [6, 6, 6],\n",
       "        [6, 6, 6]]])"
      ]
     },
     "execution_count": 10,
     "metadata": {},
     "output_type": "execute_result"
    }
   ],
   "source": [
    "a7 = np.full((1,3,3),6)\n",
    "a7"
   ]
  },
  {
   "cell_type": "markdown",
   "id": "47c90da2",
   "metadata": {},
   "source": [
    "### Crea una array con un rango de 20 separados de manera equidistante"
   ]
  },
  {
   "cell_type": "code",
   "execution_count": 11,
   "id": "ea9dfa59",
   "metadata": {},
   "outputs": [
    {
     "data": {
      "text/plain": [
       "array([ 0.,  5., 10., 15., 20., 25., 30.])"
      ]
     },
     "execution_count": 11,
     "metadata": {},
     "output_type": "execute_result"
    }
   ],
   "source": [
    "np.linspace(0,30,7) "
   ]
  },
  {
   "cell_type": "markdown",
   "id": "c2c64c54",
   "metadata": {},
   "source": [
    "### ¿Qué valor daría usar la función de identidad para una dimensión de 2?"
   ]
  },
  {
   "cell_type": "code",
   "execution_count": 12,
   "id": "d47e780a",
   "metadata": {},
   "outputs": [
    {
     "data": {
      "text/plain": [
       "array([[1., 0.],\n",
       "       [0., 1.]])"
      ]
     },
     "execution_count": 12,
     "metadata": {},
     "output_type": "execute_result"
    }
   ],
   "source": [
    "np.identity(2)"
   ]
  },
  {
   "cell_type": "markdown",
   "id": "42c78ec2",
   "metadata": {},
   "source": [
    "### Si quiero crear un array con una separación de valores de dos en dos ¿qué función he de utilizar?"
   ]
  },
  {
   "cell_type": "code",
   "execution_count": 13,
   "id": "a27d9c73",
   "metadata": {},
   "outputs": [
    {
     "data": {
      "text/plain": [
       "array([0, 2, 4, 6, 8])"
      ]
     },
     "execution_count": 13,
     "metadata": {},
     "output_type": "execute_result"
    }
   ],
   "source": [
    "np.arange(0,10,2) "
   ]
  },
  {
   "cell_type": "markdown",
   "id": "13ea575b",
   "metadata": {},
   "source": [
    "### Crea un array de con todos los valores en 0 de 4 dimensiones."
   ]
  },
  {
   "cell_type": "code",
   "execution_count": 14,
   "id": "0eff205f",
   "metadata": {},
   "outputs": [
    {
     "data": {
      "text/plain": [
       "array([[[[0., 0., 0., 0.],\n",
       "         [0., 0., 0., 0.],\n",
       "         [0., 0., 0., 0.],\n",
       "         [0., 0., 0., 0.]]]])"
      ]
     },
     "execution_count": 14,
     "metadata": {},
     "output_type": "execute_result"
    }
   ],
   "source": [
    "np.zeros((1,1,4,4))"
   ]
  },
  {
   "cell_type": "markdown",
   "id": "87882e6f",
   "metadata": {},
   "source": [
    "## Atributos"
   ]
  },
  {
   "cell_type": "markdown",
   "id": "4fa0d6ff",
   "metadata": {},
   "source": [
    "### Qué formula usarías para encontrar el tipo de datos y cuál sería para los siguientes:\n",
    "#### a. [3,6,2]\n",
    "#### b. [3.2,4.1,6.2]"
   ]
  },
  {
   "cell_type": "code",
   "execution_count": 15,
   "id": "7332ead9",
   "metadata": {},
   "outputs": [],
   "source": [
    "a = [3,6,2]\n",
    "b = [3.2,4.1,6.2]\n",
    "#Por lo que veo son dos listas, ya sin hacer nada"
   ]
  },
  {
   "cell_type": "code",
   "execution_count": 16,
   "id": "891eefa0",
   "metadata": {},
   "outputs": [
    {
     "data": {
      "text/plain": [
       "list"
      ]
     },
     "execution_count": 16,
     "metadata": {},
     "output_type": "execute_result"
    }
   ],
   "source": [
    "type(a)"
   ]
  },
  {
   "cell_type": "code",
   "execution_count": 17,
   "id": "d4d990cf",
   "metadata": {},
   "outputs": [
    {
     "data": {
      "text/plain": [
       "list"
      ]
     },
     "execution_count": 17,
     "metadata": {},
     "output_type": "execute_result"
    }
   ],
   "source": [
    "type(b)"
   ]
  },
  {
   "cell_type": "markdown",
   "id": "308cc709",
   "metadata": {},
   "source": [
    "### Que resultado da usar la formula shape una vez creado el array a partir de la preguna anterior(a y b)?"
   ]
  },
  {
   "cell_type": "code",
   "execution_count": 18,
   "id": "1c1894ee",
   "metadata": {},
   "outputs": [
    {
     "data": {
      "text/plain": [
       "array([[3. , 6. , 2. ],\n",
       "       [3.2, 4.1, 6.2]])"
      ]
     },
     "execution_count": 18,
     "metadata": {},
     "output_type": "execute_result"
    }
   ],
   "source": [
    "#Creamos el array\n",
    "a1 = np.array([a,b])\n",
    "a1"
   ]
  },
  {
   "cell_type": "code",
   "execution_count": 19,
   "id": "8c0c093d",
   "metadata": {},
   "outputs": [
    {
     "data": {
      "text/plain": [
       "(2, 3)"
      ]
     },
     "execution_count": 19,
     "metadata": {},
     "output_type": "execute_result"
    }
   ],
   "source": [
    "a1.shape"
   ]
  },
  {
   "cell_type": "markdown",
   "id": "f2100ba2",
   "metadata": {},
   "source": [
    "### Qué tamaño tienen ambas"
   ]
  },
  {
   "cell_type": "code",
   "execution_count": 20,
   "id": "8336d10c",
   "metadata": {},
   "outputs": [
    {
     "data": {
      "text/plain": [
       "3"
      ]
     },
     "execution_count": 20,
     "metadata": {},
     "output_type": "execute_result"
    }
   ],
   "source": [
    "#No entiendo muy bien la pregunta, no se a que te refieres con ambas listas, o a ambos arrays que hemos creado\n",
    "#la lista a tiene la siguiente dimensión\n",
    "len(a)"
   ]
  },
  {
   "cell_type": "code",
   "execution_count": 21,
   "id": "86515b17",
   "metadata": {},
   "outputs": [
    {
     "data": {
      "text/plain": [
       "3"
      ]
     },
     "execution_count": 21,
     "metadata": {},
     "output_type": "execute_result"
    }
   ],
   "source": [
    "#La lista b la siguiente\n",
    "len(b)"
   ]
  },
  {
   "cell_type": "code",
   "execution_count": 22,
   "id": "cde9673b",
   "metadata": {},
   "outputs": [
    {
     "data": {
      "text/plain": [
       "2"
      ]
     },
     "execution_count": 22,
     "metadata": {},
     "output_type": "execute_result"
    }
   ],
   "source": [
    "#Y el array a1.\n",
    "a1.ndim"
   ]
  },
  {
   "cell_type": "markdown",
   "id": "aacbce1b",
   "metadata": {},
   "source": [
    "### Convierte un array de dos y dimensiones en una dimensión"
   ]
  },
  {
   "cell_type": "code",
   "execution_count": 23,
   "id": "60913440",
   "metadata": {},
   "outputs": [
    {
     "data": {
      "text/plain": [
       "array([3. , 6. , 2. , 3.2, 4.1, 6.2])"
      ]
     },
     "execution_count": 23,
     "metadata": {},
     "output_type": "execute_result"
    }
   ],
   "source": [
    "#Vamos a crear una lista vacía\n",
    "lista = []\n",
    "#Vamos a guardar en esa lista todos los elementos del array 1\n",
    "for i in range(a1.shape[0]):\n",
    "    for j in range(a1.shape[1]):\n",
    "        lista.append(a1[i,j])\n",
    "#Con esa lista, vamos crear otro array de otra dimensión\n",
    "a2 = np.array(lista)\n",
    "a2"
   ]
  },
  {
   "cell_type": "code",
   "execution_count": 24,
   "id": "c7ee370f",
   "metadata": {},
   "outputs": [
    {
     "data": {
      "text/plain": [
       "array([3. , 6. , 2. , 3.2, 4.1, 6.2])"
      ]
     },
     "execution_count": 24,
     "metadata": {},
     "output_type": "execute_result"
    }
   ],
   "source": [
    "#Otra forma\n",
    "np.reshape(a1,(6,)) #No olvidar las comas al ponerlo"
   ]
  },
  {
   "cell_type": "markdown",
   "id": "c7f62b03-a73e-4297-82e0-52ef073beff7",
   "metadata": {},
   "source": [
    "### Modifica el array anterior para convertirlo en uno de tres filas y dos columnas"
   ]
  },
  {
   "cell_type": "code",
   "execution_count": 25,
   "id": "51bf5dbe-256a-4e60-be83-ce089f6a18f9",
   "metadata": {},
   "outputs": [
    {
     "data": {
      "text/plain": [
       "array([[3. , 6. ],\n",
       "       [2. , 3.2],\n",
       "       [4.1, 6.2]])"
      ]
     },
     "execution_count": 25,
     "metadata": {},
     "output_type": "execute_result"
    }
   ],
   "source": [
    "np.reshape(a2,(3,2))"
   ]
  },
  {
   "cell_type": "markdown",
   "id": "ec833b4a",
   "metadata": {},
   "source": [
    "### Crea un array a partir de una lista del tipo de datos float, luego comprueba sus dimensiones."
   ]
  },
  {
   "cell_type": "code",
   "execution_count": 26,
   "id": "b2e38c4b",
   "metadata": {},
   "outputs": [
    {
     "data": {
      "text/plain": [
       "array([[3.5, 7.6, 1.2],\n",
       "       [8.5, 4.9, 8.1]])"
      ]
     },
     "execution_count": 26,
     "metadata": {},
     "output_type": "execute_result"
    }
   ],
   "source": [
    "lista2 = [[3.5,7.6, 1.2],[8.5,4.9,8.1]]\n",
    "a3 = np.array([lista2[0],lista2[1]])\n",
    "a3"
   ]
  },
  {
   "cell_type": "code",
   "execution_count": 27,
   "id": "afe0fb4f",
   "metadata": {},
   "outputs": [
    {
     "data": {
      "text/plain": [
       "2"
      ]
     },
     "execution_count": 27,
     "metadata": {},
     "output_type": "execute_result"
    }
   ],
   "source": [
    "a3.ndim"
   ]
  },
  {
   "cell_type": "markdown",
   "id": "9923b831",
   "metadata": {},
   "source": [
    "### Devuelve el número de elementos del array anterior."
   ]
  },
  {
   "cell_type": "code",
   "execution_count": 28,
   "id": "868a0035",
   "metadata": {},
   "outputs": [
    {
     "data": {
      "text/plain": [
       "6"
      ]
     },
     "execution_count": 28,
     "metadata": {},
     "output_type": "execute_result"
    }
   ],
   "source": [
    "a3.size"
   ]
  },
  {
   "cell_type": "markdown",
   "id": "ead82075",
   "metadata": {},
   "source": [
    "### Crea el siguiente array: [[4, 1, 6], [7, 1, 2]]. Como puedo puedo acceder al elemento con el numero 2?"
   ]
  },
  {
   "cell_type": "code",
   "execution_count": 29,
   "id": "deb80c3a",
   "metadata": {},
   "outputs": [
    {
     "data": {
      "text/plain": [
       "array([[4, 1, 6],\n",
       "       [7, 1, 2]])"
      ]
     },
     "execution_count": 29,
     "metadata": {},
     "output_type": "execute_result"
    }
   ],
   "source": [
    "a4 = np.array([[4, 1, 6], [7, 1, 2]])\n",
    "a4\n",
    "#Deberíamos especificar si s queremos el elemento dos de la primera fila o el de la segunda"
   ]
  },
  {
   "cell_type": "code",
   "execution_count": 30,
   "id": "a193ac65",
   "metadata": {},
   "outputs": [
    {
     "data": {
      "text/plain": [
       "1"
      ]
     },
     "execution_count": 30,
     "metadata": {},
     "output_type": "execute_result"
    }
   ],
   "source": [
    "#Elemento 2 de la primera fila\n",
    "a4[0,1]"
   ]
  },
  {
   "cell_type": "code",
   "execution_count": 31,
   "id": "e522f88d",
   "metadata": {},
   "outputs": [
    {
     "data": {
      "text/plain": [
       "1"
      ]
     },
     "execution_count": 31,
     "metadata": {},
     "output_type": "execute_result"
    }
   ],
   "source": [
    "#Elemento 2 de la segunda fila\n",
    "a4[1,1]"
   ]
  },
  {
   "cell_type": "markdown",
   "id": "7ffd2f8a",
   "metadata": {},
   "source": [
    "### Crea una matriz unidimensional de números secuenciales usando la sentencia arange entre 10 e incluyendo* 20 en incrementos (step) de 2. Luego use la sentencia reshape y shape para transformar esta matriz unidimensional en una matriz multidimensional de 2 elementos por 3 elementos. A continuación, la salida de la matriz multidimensional a la consola de Python utilizando una sentencia de impresión.\n",
    "#### *20 debe incluirse; por eso se utiliza 21 dentro de la función arange()."
   ]
  },
  {
   "cell_type": "code",
   "execution_count": 32,
   "id": "27ea1862",
   "metadata": {},
   "outputs": [
    {
     "data": {
      "text/plain": [
       "array([10, 12, 14, 16, 18, 20])"
      ]
     },
     "execution_count": 32,
     "metadata": {},
     "output_type": "execute_result"
    }
   ],
   "source": [
    "#No entiendo muy bien si lo que quieres es que hagamos un array que comience en 10 y contenga los números de dos en dos hasta llegar al 21\n",
    "a5 = np.arange(10,21,2)\n",
    "a5"
   ]
  },
  {
   "cell_type": "code",
   "execution_count": 33,
   "id": "03b090f9",
   "metadata": {},
   "outputs": [
    {
     "data": {
      "text/plain": [
       "(6,)"
      ]
     },
     "execution_count": 33,
     "metadata": {},
     "output_type": "execute_result"
    }
   ],
   "source": [
    "a5.shape"
   ]
  },
  {
   "cell_type": "code",
   "execution_count": 34,
   "id": "981675ea",
   "metadata": {},
   "outputs": [
    {
     "data": {
      "text/plain": [
       "array([[10, 12, 14],\n",
       "       [16, 18, 20]])"
      ]
     },
     "execution_count": 34,
     "metadata": {},
     "output_type": "execute_result"
    }
   ],
   "source": [
    "np.reshape(a5,(2,3))"
   ]
  },
  {
   "cell_type": "markdown",
   "id": "e9cc982a",
   "metadata": {},
   "source": [
    "## Operaciones Matemáticas y filtros"
   ]
  },
  {
   "cell_type": "markdown",
   "id": "90016d32",
   "metadata": {},
   "source": [
    "### Crea un filtro que devuelva los valores mayores de 42 de tu propio array"
   ]
  },
  {
   "cell_type": "code",
   "execution_count": 35,
   "id": "2887346f",
   "metadata": {},
   "outputs": [
    {
     "data": {
      "text/plain": [
       "array([[0.10924691, 0.81535327, 0.1044049 ],\n",
       "       [0.48165972, 0.50526846, 0.49509337],\n",
       "       [0.47974683, 0.21955811, 0.66925745]])"
      ]
     },
     "execution_count": 35,
     "metadata": {},
     "output_type": "execute_result"
    }
   ],
   "source": [
    "#Creo un array cualquiera\n",
    "arrandom = np.random.random((3,3))\n",
    "arrandom"
   ]
  },
  {
   "cell_type": "code",
   "execution_count": 36,
   "id": "3aa212c7",
   "metadata": {},
   "outputs": [
    {
     "data": {
      "text/plain": [
       "array([[10.92469145, 81.53532694, 10.44049027],\n",
       "       [48.16597233, 50.52684575, 49.50933694],\n",
       "       [47.97468306, 21.95581102, 66.92574461]])"
      ]
     },
     "execution_count": 36,
     "metadata": {},
     "output_type": "execute_result"
    }
   ],
   "source": [
    "#Multiplico cada valor por 100 para que me salgan valores mayores de 42\n",
    "arrandom2 = arrandom * 100\n",
    "arrandom2\n",
    "\n",
    "#Se me ocurren tres maneras de resolver el problema"
   ]
  },
  {
   "cell_type": "code",
   "execution_count": 53,
   "id": "df68a977",
   "metadata": {},
   "outputs": [
    {
     "data": {
      "text/plain": [
       "array([[0.47974683, 0.21955811, 0.66925745],\n",
       "       [0.48165972, 0.50526846, 0.49509337],\n",
       "       [0.10924691, 0.81535327, 0.1044049 ]])"
      ]
     },
     "execution_count": 53,
     "metadata": {},
     "output_type": "execute_result"
    }
   ],
   "source": [
    "arrandom[::-1]"
   ]
  },
  {
   "cell_type": "code",
   "execution_count": 55,
   "id": "cfbfff7d",
   "metadata": {},
   "outputs": [
    {
     "data": {
      "text/plain": [
       "array([[0.66925745, 0.21955811, 0.47974683],\n",
       "       [0.49509337, 0.50526846, 0.48165972],\n",
       "       [0.1044049 , 0.81535327, 0.10924691]])"
      ]
     },
     "execution_count": 55,
     "metadata": {},
     "output_type": "execute_result"
    }
   ],
   "source": [
    "np.flip(arrandom)"
   ]
  },
  {
   "cell_type": "code",
   "execution_count": 37,
   "id": "f4a61ee2",
   "metadata": {},
   "outputs": [
    {
     "data": {
      "text/plain": [
       "array([81.53532694, 48.16597233, 50.52684575, 49.50933694, 47.97468306,\n",
       "       66.92574461])"
      ]
     },
     "execution_count": 37,
     "metadata": {},
     "output_type": "execute_result"
    }
   ],
   "source": [
    "\n",
    "#La primera haciendo un array de una dimensión que contenga sólo los números que sean mayores que 42\n",
    "lista42 = []\n",
    "for i in range(arrandom2.shape[0]):\n",
    "    for j in range(arrandom2.shape[1]):\n",
    "        if arrandom2[i,j] > 42:\n",
    "            lista42.append(arrandom2[i,j])\n",
    "arr421 = np.array(lista42)\n",
    "arr421"
   ]
  },
  {
   "cell_type": "code",
   "execution_count": 50,
   "id": "5955f643",
   "metadata": {},
   "outputs": [
    {
     "data": {
      "text/plain": [
       "array([81.53532694, 48.16597233, 50.52684575, 49.50933694, 47.97468306,\n",
       "       66.92574461])"
      ]
     },
     "execution_count": 50,
     "metadata": {},
     "output_type": "execute_result"
    }
   ],
   "source": [
    "#Esta manera es más fácil, pero no recuerdo haberla visto en clase, por eso lo he realizado de la manera anterior\n",
    "# Filtrar los valores mayores a 42\n",
    "arr423 = arrandom2[arrandom2>42]\n",
    "arr423"
   ]
  },
  {
   "cell_type": "code",
   "execution_count": 39,
   "id": "cf43d15a",
   "metadata": {},
   "outputs": [
    {
     "data": {
      "text/plain": [
       "array([[ 0.        , 81.53532694,  0.        ],\n",
       "       [48.16597233, 50.52684575, 49.50933694],\n",
       "       [47.97468306,  0.        , 66.92574461]])"
      ]
     },
     "execution_count": 39,
     "metadata": {},
     "output_type": "execute_result"
    }
   ],
   "source": [
    "#La segunda manera es creando un array de dos dimensiones que guarde los valores que sean mayores que 42\n",
    "#En el mismo sitio donde estaban los valores originales y que muestre un 0 si el valor no es mayor de 42\n",
    "\n",
    "#Creamos array vacio \n",
    "arr422 = np.empty(arrandom2.shape)\n",
    "\n",
    "#En ese array guardamos los elementos mayores de 42 y luego le decimos que el resto de elementos sea cero\n",
    "for i in range(arrandom2.shape[0]):\n",
    "    for j in range(arrandom2.shape[1]):\n",
    "        if arrandom2[i,j] > 42:\n",
    "            arr422[i,j] = arrandom2[i,j]\n",
    "        else:\n",
    "            arr422[i,j] = 0\n",
    "arr422\n"
   ]
  },
  {
   "cell_type": "markdown",
   "id": "8d6dce84",
   "metadata": {},
   "source": [
    "### Crea un filtro que devuelva solo los valores pares del siguiente array: arr = np.array([1, 2, 3, 4, 5, 6, 7])"
   ]
  },
  {
   "cell_type": "code",
   "execution_count": 40,
   "id": "84354eb5",
   "metadata": {},
   "outputs": [
    {
     "data": {
      "text/plain": [
       "array([1, 0, 1, 0, 1, 0, 1])"
      ]
     },
     "execution_count": 40,
     "metadata": {},
     "output_type": "execute_result"
    }
   ],
   "source": [
    "arr = np.array([1, 2, 3, 4, 5, 6, 7])\n",
    "#Vamos a sacar el resto de dividir los valores del array entre 2\n",
    "arr2 = arr % 2\n",
    "arr2"
   ]
  },
  {
   "cell_type": "code",
   "execution_count": 41,
   "id": "9a1c94de",
   "metadata": {},
   "outputs": [
    {
     "data": {
      "text/plain": [
       "array([2, 4, 6])"
      ]
     },
     "execution_count": 41,
     "metadata": {},
     "output_type": "execute_result"
    }
   ],
   "source": [
    "#Creamos una lista que guarde los valores par\n",
    "lista = []\n",
    "for i in range(arr2.shape[0]):\n",
    "    if arr2[i] == 0:\n",
    "        lista.append(arr[i])\n",
    "#Creamos un array a partir de la lista de los pares\n",
    "arrpares = np.array(lista)\n",
    "arrpares"
   ]
  },
  {
   "cell_type": "code",
   "execution_count": 42,
   "id": "328f1f37",
   "metadata": {},
   "outputs": [
    {
     "data": {
      "text/plain": [
       "array([2, 4, 6])"
      ]
     },
     "execution_count": 42,
     "metadata": {},
     "output_type": "execute_result"
    }
   ],
   "source": [
    "#Hacemos el filtrado de manera fácil\n",
    "arrpares2 = arr[(arr % 2) == 0]\n",
    "arrpares2"
   ]
  },
  {
   "cell_type": "markdown",
   "id": "4ce018c2",
   "metadata": {},
   "source": [
    "### Ahora para los impares del anterior array."
   ]
  },
  {
   "cell_type": "code",
   "execution_count": 43,
   "id": "63b3d605",
   "metadata": {},
   "outputs": [
    {
     "name": "stdout",
     "output_type": "stream",
     "text": [
      "[1, 3, 5, 7]\n"
     ]
    }
   ],
   "source": [
    "#Creamos una lista que guarde los valores impares\n",
    "lista2 = []\n",
    "for i in range(arr2.shape[0]):\n",
    "    if arr2[i] != 0:\n",
    "        lista2.append(arr[i])\n",
    "print(lista2)"
   ]
  },
  {
   "cell_type": "code",
   "execution_count": 44,
   "id": "7e9ee198",
   "metadata": {},
   "outputs": [
    {
     "data": {
      "text/plain": [
       "array([1, 3, 5, 7])"
      ]
     },
     "execution_count": 44,
     "metadata": {},
     "output_type": "execute_result"
    }
   ],
   "source": [
    "#Hacemos el filtrado de manera fácil\n",
    "arrimpares2 = arr[(arr % 2) != 0]\n",
    "arrimpares2"
   ]
  },
  {
   "cell_type": "markdown",
   "id": "78e419cb",
   "metadata": {},
   "source": [
    "### Encuentra el producto matricial de los siguientes arrays: test1 = np.array([[5, 2,3], [4, 8, 4]]) y test2 = np.array([[1, 1], [1, 6], [6, 3]])"
   ]
  },
  {
   "cell_type": "code",
   "execution_count": 45,
   "id": "801430f4",
   "metadata": {},
   "outputs": [
    {
     "data": {
      "text/plain": [
       "array([[25, 26],\n",
       "       [36, 64]])"
      ]
     },
     "execution_count": 45,
     "metadata": {},
     "output_type": "execute_result"
    }
   ],
   "source": [
    "test1 = np.array([[5, 2,3], [4, 8, 4]])\n",
    "test2 = np.array([[1, 1], [1, 6], [6, 3]])\n",
    "test3 = test1.dot(test2)\n",
    "test3"
   ]
  },
  {
   "cell_type": "markdown",
   "id": "7ffa5fb6",
   "metadata": {},
   "source": [
    "### Eleva al cubo el siguiente array preg4 = np.array([[4, 5, 8],[2,8,5]])"
   ]
  },
  {
   "cell_type": "code",
   "execution_count": 46,
   "id": "4981e26e",
   "metadata": {},
   "outputs": [
    {
     "data": {
      "text/plain": [
       "array([[ 64, 125, 512],\n",
       "       [  8, 512, 125]])"
      ]
     },
     "execution_count": 46,
     "metadata": {},
     "output_type": "execute_result"
    }
   ],
   "source": [
    "preg4 = np.array([[4, 5, 8],[2,8,5]])\n",
    "preg5 = preg4 ** 3\n",
    "preg5"
   ]
  },
  {
   "cell_type": "markdown",
   "id": "0d3b92e0",
   "metadata": {},
   "source": [
    "### Encuentra a traspuesta de los arrays creados en el punto 1 y 4."
   ]
  },
  {
   "cell_type": "code",
   "execution_count": 47,
   "id": "176e6bcb",
   "metadata": {},
   "outputs": [
    {
     "name": "stdout",
     "output_type": "stream",
     "text": [
      "[[ 0.         48.16597233 47.97468306]\n",
      " [81.53532694 50.52684575  0.        ]\n",
      " [ 0.         49.50933694 66.92574461]]\n",
      "\n",
      "\n",
      "[[25 36]\n",
      " [26 64]]\n"
     ]
    }
   ],
   "source": [
    "print(arr422.T)\n",
    "#Le ponemos un parrafo que si no queda todo junto\n",
    "print('\\n')\n",
    "print(test3.T)"
   ]
  },
  {
   "cell_type": "markdown",
   "id": "cd908e5f",
   "metadata": {},
   "source": [
    "### Suma la respuesta de la pregunta 5 a un nuevo array."
   ]
  },
  {
   "cell_type": "code",
   "execution_count": 48,
   "id": "4ff2899e",
   "metadata": {},
   "outputs": [
    {
     "data": {
      "text/plain": [
       "array([[298.9915899 , 964.74192724,  50.80014334],\n",
       "       [492.53303479, 852.38158636, 903.61687787]])"
      ]
     },
     "execution_count": 48,
     "metadata": {},
     "output_type": "execute_result"
    }
   ],
   "source": [
    "#Creamos un nuevo array\n",
    "arrandom3 = (np.random.random((2,3)))*1000\n",
    "arrandom3"
   ]
  },
  {
   "cell_type": "code",
   "execution_count": 49,
   "id": "3b61a899",
   "metadata": {},
   "outputs": [
    {
     "data": {
      "text/plain": [
       "array([[ 362.9915899 , 1089.74192724,  562.80014334],\n",
       "       [ 500.53303479, 1364.38158636, 1028.61687787]])"
      ]
     },
     "execution_count": 49,
     "metadata": {},
     "output_type": "execute_result"
    }
   ],
   "source": [
    "#Lo sumamos al de la pregunta 5\n",
    "preg5 + arrandom3"
   ]
  }
 ],
 "metadata": {
  "celltoolbar": "Edit Metadata",
  "kernelspec": {
   "display_name": "Python 3 (ipykernel)",
   "language": "python",
   "name": "python3"
  },
  "language_info": {
   "codemirror_mode": {
    "name": "ipython",
    "version": 3
   },
   "file_extension": ".py",
   "mimetype": "text/x-python",
   "name": "python",
   "nbconvert_exporter": "python",
   "pygments_lexer": "ipython3",
   "version": "3.9.13"
  },
  "toc-autonumbering": true,
  "toc-showtags": false
 },
 "nbformat": 4,
 "nbformat_minor": 5
}
